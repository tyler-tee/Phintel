{
 "cells": [
  {
   "cell_type": "code",
   "execution_count": 1,
   "metadata": {},
   "outputs": [],
   "source": [
    "import pandas as pd\n",
    "from phintel_funcs import *"
   ]
  },
  {
   "cell_type": "code",
   "execution_count": 7,
   "metadata": {},
   "outputs": [
    {
     "data": {
      "text/html": [
       "<div>\n",
       "<style scoped>\n",
       "    .dataframe tbody tr th:only-of-type {\n",
       "        vertical-align: middle;\n",
       "    }\n",
       "\n",
       "    .dataframe tbody tr th {\n",
       "        vertical-align: top;\n",
       "    }\n",
       "\n",
       "    .dataframe thead th {\n",
       "        text-align: right;\n",
       "    }\n",
       "</style>\n",
       "<table border=\"1\" class=\"dataframe\">\n",
       "  <thead>\n",
       "    <tr style=\"text-align: right;\">\n",
       "      <th></th>\n",
       "      <th>URL</th>\n",
       "      <th>Source</th>\n",
       "      <th>Date</th>\n",
       "      <th>Notes</th>\n",
       "      <th>Target</th>\n",
       "      <th>Domain</th>\n",
       "    </tr>\n",
       "  </thead>\n",
       "  <tbody>\n",
       "    <tr>\n",
       "      <th>0</th>\n",
       "      <td>https://duet-alliance.ru/cli/confirm/webapps/2...</td>\n",
       "      <td>openphish</td>\n",
       "      <td>2021-11-20 16:19:08+00:00</td>\n",
       "      <td>Free Dataset</td>\n",
       "      <td>Other</td>\n",
       "      <td>duet-alliance.ru</td>\n",
       "    </tr>\n",
       "    <tr>\n",
       "      <th>1</th>\n",
       "      <td>http://event-ff-68.duckdns.org/</td>\n",
       "      <td>openphish</td>\n",
       "      <td>2021-11-20 16:19:08+00:00</td>\n",
       "      <td>Free Dataset</td>\n",
       "      <td>Other</td>\n",
       "      <td>duckdns.org</td>\n",
       "    </tr>\n",
       "    <tr>\n",
       "      <th>2</th>\n",
       "      <td>http://rakuten.co.jp.ravtenip.xyz/</td>\n",
       "      <td>openphish</td>\n",
       "      <td>2021-11-20 16:19:08+00:00</td>\n",
       "      <td>Free Dataset</td>\n",
       "      <td>Other</td>\n",
       "      <td>ravtenip.xyz</td>\n",
       "    </tr>\n",
       "    <tr>\n",
       "      <th>3</th>\n",
       "      <td>https://digitalkarachi.pk/freas/validation/</td>\n",
       "      <td>openphish</td>\n",
       "      <td>2021-11-20 16:19:08+00:00</td>\n",
       "      <td>Free Dataset</td>\n",
       "      <td>Other</td>\n",
       "      <td>digitalkarachi.pk</td>\n",
       "    </tr>\n",
       "    <tr>\n",
       "      <th>4</th>\n",
       "      <td>http://grocery-undress.clodui.com/?authorize?c...</td>\n",
       "      <td>openphish</td>\n",
       "      <td>2021-11-20 16:19:08+00:00</td>\n",
       "      <td>Free Dataset</td>\n",
       "      <td>Other</td>\n",
       "      <td>clodui.com</td>\n",
       "    </tr>\n",
       "    <tr>\n",
       "      <th>...</th>\n",
       "      <td>...</td>\n",
       "      <td>...</td>\n",
       "      <td>...</td>\n",
       "      <td>...</td>\n",
       "      <td>...</td>\n",
       "      <td>...</td>\n",
       "    </tr>\n",
       "    <tr>\n",
       "      <th>317244</th>\n",
       "      <td>https://www.kmgzkk.cyou/</td>\n",
       "      <td>phishstats</td>\n",
       "      <td>2021-10-18 21:21:37</td>\n",
       "      <td>Score: 3.4</td>\n",
       "      <td>Other</td>\n",
       "      <td>kmgzkk.cyou</td>\n",
       "    </tr>\n",
       "    <tr>\n",
       "      <th>317245</th>\n",
       "      <td>https://www.isakovo.com/wp-content/dapps.html</td>\n",
       "      <td>phishstats</td>\n",
       "      <td>2021-10-18 21:21:36</td>\n",
       "      <td>Score: 2.1</td>\n",
       "      <td>Other</td>\n",
       "      <td>isakovo.com</td>\n",
       "    </tr>\n",
       "    <tr>\n",
       "      <th>317246</th>\n",
       "      <td>https://www.isaacdonnelly.com/refi/wells.htm</td>\n",
       "      <td>phishstats</td>\n",
       "      <td>2021-10-18 21:21:34</td>\n",
       "      <td>Score: 5.8</td>\n",
       "      <td>Other</td>\n",
       "      <td>isaacdonnelly.com</td>\n",
       "    </tr>\n",
       "    <tr>\n",
       "      <th>317247</th>\n",
       "      <td>https://www.isaacdonnelly.com/refi/index.htm</td>\n",
       "      <td>phishstats</td>\n",
       "      <td>2021-10-18 21:21:33</td>\n",
       "      <td>Score: 5.4</td>\n",
       "      <td>Other</td>\n",
       "      <td>isaacdonnelly.com</td>\n",
       "    </tr>\n",
       "    <tr>\n",
       "      <th>317248</th>\n",
       "      <td>https://www.internetservicetech.com/landingpag...</td>\n",
       "      <td>phishstats</td>\n",
       "      <td>2021-10-18 21:21:32</td>\n",
       "      <td>Score: 3.5</td>\n",
       "      <td>Other</td>\n",
       "      <td>internetservicetech.com</td>\n",
       "    </tr>\n",
       "  </tbody>\n",
       "</table>\n",
       "<p>317269 rows × 6 columns</p>\n",
       "</div>"
      ],
      "text/plain": [
       "                                                      URL      Source  \\\n",
       "0       https://duet-alliance.ru/cli/confirm/webapps/2...   openphish   \n",
       "1                         http://event-ff-68.duckdns.org/   openphish   \n",
       "2                      http://rakuten.co.jp.ravtenip.xyz/   openphish   \n",
       "3             https://digitalkarachi.pk/freas/validation/   openphish   \n",
       "4       http://grocery-undress.clodui.com/?authorize?c...   openphish   \n",
       "...                                                   ...         ...   \n",
       "317244                           https://www.kmgzkk.cyou/  phishstats   \n",
       "317245      https://www.isakovo.com/wp-content/dapps.html  phishstats   \n",
       "317246       https://www.isaacdonnelly.com/refi/wells.htm  phishstats   \n",
       "317247       https://www.isaacdonnelly.com/refi/index.htm  phishstats   \n",
       "317248  https://www.internetservicetech.com/landingpag...  phishstats   \n",
       "\n",
       "                             Date         Notes Target  \\\n",
       "0       2021-11-20 16:19:08+00:00  Free Dataset  Other   \n",
       "1       2021-11-20 16:19:08+00:00  Free Dataset  Other   \n",
       "2       2021-11-20 16:19:08+00:00  Free Dataset  Other   \n",
       "3       2021-11-20 16:19:08+00:00  Free Dataset  Other   \n",
       "4       2021-11-20 16:19:08+00:00  Free Dataset  Other   \n",
       "...                           ...           ...    ...   \n",
       "317244        2021-10-18 21:21:37    Score: 3.4  Other   \n",
       "317245        2021-10-18 21:21:36    Score: 2.1  Other   \n",
       "317246        2021-10-18 21:21:34    Score: 5.8  Other   \n",
       "317247        2021-10-18 21:21:33    Score: 5.4  Other   \n",
       "317248        2021-10-18 21:21:32    Score: 3.5  Other   \n",
       "\n",
       "                         Domain  \n",
       "0              duet-alliance.ru  \n",
       "1                   duckdns.org  \n",
       "2                  ravtenip.xyz  \n",
       "3             digitalkarachi.pk  \n",
       "4                    clodui.com  \n",
       "...                         ...  \n",
       "317244              kmgzkk.cyou  \n",
       "317245              isakovo.com  \n",
       "317246        isaacdonnelly.com  \n",
       "317247        isaacdonnelly.com  \n",
       "317248  internetservicetech.com  \n",
       "\n",
       "[317269 rows x 6 columns]"
      ]
     },
     "execution_count": 7,
     "metadata": {},
     "output_type": "execute_result"
    }
   ],
   "source": [
    "primary_db_update()"
   ]
  },
  {
   "cell_type": "code",
   "execution_count": 4,
   "metadata": {},
   "outputs": [
    {
     "data": {
      "text/html": [
       "<div>\n",
       "<style scoped>\n",
       "    .dataframe tbody tr th:only-of-type {\n",
       "        vertical-align: middle;\n",
       "    }\n",
       "\n",
       "    .dataframe tbody tr th {\n",
       "        vertical-align: top;\n",
       "    }\n",
       "\n",
       "    .dataframe thead th {\n",
       "        text-align: right;\n",
       "    }\n",
       "</style>\n",
       "<table border=\"1\" class=\"dataframe\">\n",
       "  <thead>\n",
       "    <tr style=\"text-align: right;\">\n",
       "      <th></th>\n",
       "      <th>URL</th>\n",
       "      <th>Source</th>\n",
       "      <th>Date</th>\n",
       "      <th>Notes</th>\n",
       "      <th>Target</th>\n",
       "      <th>Domain</th>\n",
       "    </tr>\n",
       "  </thead>\n",
       "  <tbody>\n",
       "    <tr>\n",
       "      <th>0</th>\n",
       "      <td>https://duet-alliance.ru/cli/confirm/webapps/2...</td>\n",
       "      <td>openphish</td>\n",
       "      <td>2021-11-20 13:55:33+00:00</td>\n",
       "      <td>Free Dataset</td>\n",
       "      <td>Other</td>\n",
       "      <td>duet-alliance.ru</td>\n",
       "    </tr>\n",
       "    <tr>\n",
       "      <th>1</th>\n",
       "      <td>http://event-ff-68.duckdns.org/</td>\n",
       "      <td>openphish</td>\n",
       "      <td>2021-11-20 13:55:33+00:00</td>\n",
       "      <td>Free Dataset</td>\n",
       "      <td>Other</td>\n",
       "      <td>duckdns.org</td>\n",
       "    </tr>\n",
       "    <tr>\n",
       "      <th>2</th>\n",
       "      <td>http://rakuten.co.jp.ravtenip.xyz/</td>\n",
       "      <td>openphish</td>\n",
       "      <td>2021-11-20 13:55:33+00:00</td>\n",
       "      <td>Free Dataset</td>\n",
       "      <td>Other</td>\n",
       "      <td>ravtenip.xyz</td>\n",
       "    </tr>\n",
       "    <tr>\n",
       "      <th>3</th>\n",
       "      <td>https://digitalkarachi.pk/freas/validation/</td>\n",
       "      <td>openphish</td>\n",
       "      <td>2021-11-20 13:55:33+00:00</td>\n",
       "      <td>Free Dataset</td>\n",
       "      <td>Other</td>\n",
       "      <td>digitalkarachi.pk</td>\n",
       "    </tr>\n",
       "    <tr>\n",
       "      <th>4</th>\n",
       "      <td>http://grocery-undress.clodui.com/?authorize?c...</td>\n",
       "      <td>openphish</td>\n",
       "      <td>2021-11-20 13:55:33+00:00</td>\n",
       "      <td>Free Dataset</td>\n",
       "      <td>Other</td>\n",
       "      <td>clodui.com</td>\n",
       "    </tr>\n",
       "  </tbody>\n",
       "</table>\n",
       "</div>"
      ],
      "text/plain": [
       "                                                 URL     Source  \\\n",
       "0  https://duet-alliance.ru/cli/confirm/webapps/2...  openphish   \n",
       "1                    http://event-ff-68.duckdns.org/  openphish   \n",
       "2                 http://rakuten.co.jp.ravtenip.xyz/  openphish   \n",
       "3        https://digitalkarachi.pk/freas/validation/  openphish   \n",
       "4  http://grocery-undress.clodui.com/?authorize?c...  openphish   \n",
       "\n",
       "                        Date         Notes Target             Domain  \n",
       "0  2021-11-20 13:55:33+00:00  Free Dataset  Other   duet-alliance.ru  \n",
       "1  2021-11-20 13:55:33+00:00  Free Dataset  Other        duckdns.org  \n",
       "2  2021-11-20 13:55:33+00:00  Free Dataset  Other       ravtenip.xyz  \n",
       "3  2021-11-20 13:55:33+00:00  Free Dataset  Other  digitalkarachi.pk  \n",
       "4  2021-11-20 13:55:33+00:00  Free Dataset  Other         clodui.com  "
      ]
     },
     "execution_count": 4,
     "metadata": {},
     "output_type": "execute_result"
    }
   ],
   "source": [
    "df_primary = pd.read_csv('primary.csv', on_bad_lines='skip')\n",
    "df_primary.head()"
   ]
  },
  {
   "cell_type": "code",
   "execution_count": 5,
   "metadata": {},
   "outputs": [
    {
     "data": {
      "text/html": [
       "<div>\n",
       "<style scoped>\n",
       "    .dataframe tbody tr th:only-of-type {\n",
       "        vertical-align: middle;\n",
       "    }\n",
       "\n",
       "    .dataframe tbody tr th {\n",
       "        vertical-align: top;\n",
       "    }\n",
       "\n",
       "    .dataframe thead th {\n",
       "        text-align: right;\n",
       "    }\n",
       "</style>\n",
       "<table border=\"1\" class=\"dataframe\">\n",
       "  <thead>\n",
       "    <tr style=\"text-align: right;\">\n",
       "      <th></th>\n",
       "      <th>Target</th>\n",
       "      <th>URL</th>\n",
       "    </tr>\n",
       "  </thead>\n",
       "  <tbody>\n",
       "    <tr>\n",
       "      <th>48</th>\n",
       "      <td>Internal Revenue Service</td>\n",
       "      <td>310</td>\n",
       "    </tr>\n",
       "    <tr>\n",
       "      <th>38</th>\n",
       "      <td>Facebook</td>\n",
       "      <td>164</td>\n",
       "    </tr>\n",
       "    <tr>\n",
       "      <th>90</th>\n",
       "      <td>eBay, Inc.</td>\n",
       "      <td>148</td>\n",
       "    </tr>\n",
       "    <tr>\n",
       "      <th>62</th>\n",
       "      <td>PayPal</td>\n",
       "      <td>122</td>\n",
       "    </tr>\n",
       "    <tr>\n",
       "      <th>55</th>\n",
       "      <td>Microsoft</td>\n",
       "      <td>122</td>\n",
       "    </tr>\n",
       "    <tr>\n",
       "      <th>25</th>\n",
       "      <td>Caixa</td>\n",
       "      <td>43</td>\n",
       "    </tr>\n",
       "    <tr>\n",
       "      <th>47</th>\n",
       "      <td>ING Direct</td>\n",
       "      <td>36</td>\n",
       "    </tr>\n",
       "    <tr>\n",
       "      <th>13</th>\n",
       "      <td>Banco De Brasil</td>\n",
       "      <td>34</td>\n",
       "    </tr>\n",
       "    <tr>\n",
       "      <th>60</th>\n",
       "      <td>Orange</td>\n",
       "      <td>32</td>\n",
       "    </tr>\n",
       "    <tr>\n",
       "      <th>41</th>\n",
       "      <td>Google</td>\n",
       "      <td>31</td>\n",
       "    </tr>\n",
       "  </tbody>\n",
       "</table>\n",
       "</div>"
      ],
      "text/plain": [
       "                      Target  URL\n",
       "48  Internal Revenue Service  310\n",
       "38                  Facebook  164\n",
       "90                eBay, Inc.  148\n",
       "62                    PayPal  122\n",
       "55                 Microsoft  122\n",
       "25                     Caixa   43\n",
       "47                ING Direct   36\n",
       "13           Banco De Brasil   34\n",
       "60                    Orange   32\n",
       "41                    Google   31"
      ]
     },
     "execution_count": 5,
     "metadata": {},
     "output_type": "execute_result"
    }
   ],
   "source": [
    "target_agg = df_primary[df_primary['Target'] != 'Other']\n",
    "primary_db_aggregate(target_agg, 'Target').head(10)"
   ]
  },
  {
   "cell_type": "code",
   "execution_count": 24,
   "metadata": {},
   "outputs": [],
   "source": [
    "dom_agg = primary_db_aggregate(df_primary, 'Domain').sort_values(by='URL', ascending=False)"
   ]
  },
  {
   "cell_type": "code",
   "execution_count": 25,
   "metadata": {},
   "outputs": [
    {
     "data": {
      "text/html": [
       "<div>\n",
       "<style scoped>\n",
       "    .dataframe tbody tr th:only-of-type {\n",
       "        vertical-align: middle;\n",
       "    }\n",
       "\n",
       "    .dataframe tbody tr th {\n",
       "        vertical-align: top;\n",
       "    }\n",
       "\n",
       "    .dataframe thead th {\n",
       "        text-align: right;\n",
       "    }\n",
       "</style>\n",
       "<table border=\"1\" class=\"dataframe\">\n",
       "  <thead>\n",
       "    <tr style=\"text-align: right;\">\n",
       "      <th></th>\n",
       "      <th>Domain</th>\n",
       "      <th>URL</th>\n",
       "    </tr>\n",
       "  </thead>\n",
       "  <tbody>\n",
       "    <tr>\n",
       "      <th>169832</th>\n",
       "      <td>discordapp.com</td>\n",
       "      <td>8016</td>\n",
       "    </tr>\n",
       "    <tr>\n",
       "      <th>73930</th>\n",
       "      <td>1drv.com</td>\n",
       "      <td>7415</td>\n",
       "    </tr>\n",
       "    <tr>\n",
       "      <th>170190</th>\n",
       "      <td>duckdns.org</td>\n",
       "      <td>4058</td>\n",
       "    </tr>\n",
       "    <tr>\n",
       "      <th>175547</th>\n",
       "      <td>live.com</td>\n",
       "      <td>3386</td>\n",
       "    </tr>\n",
       "    <tr>\n",
       "      <th>172409</th>\n",
       "      <td>google.com</td>\n",
       "      <td>3378</td>\n",
       "    </tr>\n",
       "  </tbody>\n",
       "</table>\n",
       "</div>"
      ],
      "text/plain": [
       "                Domain   URL\n",
       "169832  discordapp.com  8016\n",
       "73930         1drv.com  7415\n",
       "170190     duckdns.org  4058\n",
       "175547        live.com  3386\n",
       "172409      google.com  3378"
      ]
     },
     "execution_count": 25,
     "metadata": {},
     "output_type": "execute_result"
    }
   ],
   "source": [
    "dom_agg.head()"
   ]
  },
  {
   "cell_type": "code",
   "execution_count": 20,
   "metadata": {},
   "outputs": [
    {
     "ename": "TypeError",
     "evalue": "an integer is required (got type str)",
     "output_type": "error",
     "traceback": [
      "\u001b[1;31m---------------------------------------------------------------------------\u001b[0m",
      "\u001b[1;31mTypeError\u001b[0m                                 Traceback (most recent call last)",
      "\u001b[1;32m~\\AppData\\Local\\Temp/ipykernel_15624/517810251.py\u001b[0m in \u001b[0;36m<module>\u001b[1;34m\u001b[0m\n\u001b[1;32m----> 1\u001b[1;33m \u001b[0mdf_primary\u001b[0m\u001b[1;33m[\u001b[0m\u001b[1;34m'Date'\u001b[0m\u001b[1;33m]\u001b[0m\u001b[1;33m.\u001b[0m\u001b[0mfillna\u001b[0m\u001b[1;33m(\u001b[0m\u001b[0mdatetime\u001b[0m\u001b[1;33m(\u001b[0m\u001b[1;34m'2021-01-01'\u001b[0m\u001b[1;33m)\u001b[0m\u001b[1;33m)\u001b[0m\u001b[1;33m\u001b[0m\u001b[1;33m\u001b[0m\u001b[0m\n\u001b[0m",
      "\u001b[1;31mTypeError\u001b[0m: an integer is required (got type str)"
     ]
    }
   ],
   "source": [
    "df_primary['Date'].fillna(datetime('2021-01-01'))"
   ]
  },
  {
   "cell_type": "code",
   "execution_count": 11,
   "metadata": {},
   "outputs": [
    {
     "data": {
      "text/html": [
       "<div>\n",
       "<style scoped>\n",
       "    .dataframe tbody tr th:only-of-type {\n",
       "        vertical-align: middle;\n",
       "    }\n",
       "\n",
       "    .dataframe tbody tr th {\n",
       "        vertical-align: top;\n",
       "    }\n",
       "\n",
       "    .dataframe thead th {\n",
       "        text-align: right;\n",
       "    }\n",
       "</style>\n",
       "<table border=\"1\" class=\"dataframe\">\n",
       "  <thead>\n",
       "    <tr style=\"text-align: right;\">\n",
       "      <th></th>\n",
       "      <th>Date</th>\n",
       "      <th>URL</th>\n",
       "    </tr>\n",
       "  </thead>\n",
       "  <tbody>\n",
       "    <tr>\n",
       "      <th>0</th>\n",
       "      <td>2008-11-07 15:04:00+00:00</td>\n",
       "      <td>1</td>\n",
       "    </tr>\n",
       "    <tr>\n",
       "      <th>1</th>\n",
       "      <td>2009-12-03 10:40:26+00:00</td>\n",
       "      <td>1</td>\n",
       "    </tr>\n",
       "    <tr>\n",
       "      <th>2</th>\n",
       "      <td>2011-02-18 10:50:32+00:00</td>\n",
       "      <td>1</td>\n",
       "    </tr>\n",
       "    <tr>\n",
       "      <th>3</th>\n",
       "      <td>2012-06-14 15:19:26+00:00</td>\n",
       "      <td>1</td>\n",
       "    </tr>\n",
       "    <tr>\n",
       "      <th>4</th>\n",
       "      <td>2013-04-30 07:16:53+00:00</td>\n",
       "      <td>1</td>\n",
       "    </tr>\n",
       "    <tr>\n",
       "      <th>5</th>\n",
       "      <td>2013-05-18 23:52:56+00:00</td>\n",
       "      <td>1</td>\n",
       "    </tr>\n",
       "    <tr>\n",
       "      <th>6</th>\n",
       "      <td>2013-05-28 15:59:31+00:00</td>\n",
       "      <td>1</td>\n",
       "    </tr>\n",
       "    <tr>\n",
       "      <th>7</th>\n",
       "      <td>2013-09-30 13:24:39+00:00</td>\n",
       "      <td>1</td>\n",
       "    </tr>\n",
       "    <tr>\n",
       "      <th>8</th>\n",
       "      <td>2014-01-24 18:51:07+00:00</td>\n",
       "      <td>1</td>\n",
       "    </tr>\n",
       "    <tr>\n",
       "      <th>9</th>\n",
       "      <td>2014-02-28 08:51:20+00:00</td>\n",
       "      <td>1</td>\n",
       "    </tr>\n",
       "    <tr>\n",
       "      <th>10</th>\n",
       "      <td>2014-07-01 15:48:04+00:00</td>\n",
       "      <td>1</td>\n",
       "    </tr>\n",
       "    <tr>\n",
       "      <th>11</th>\n",
       "      <td>2014-09-11 10:55:35+00:00</td>\n",
       "      <td>1</td>\n",
       "    </tr>\n",
       "    <tr>\n",
       "      <th>12</th>\n",
       "      <td>2015-04-08 09:20:41+00:00</td>\n",
       "      <td>1</td>\n",
       "    </tr>\n",
       "    <tr>\n",
       "      <th>13</th>\n",
       "      <td>2015-04-08 09:20:43+00:00</td>\n",
       "      <td>1</td>\n",
       "    </tr>\n",
       "    <tr>\n",
       "      <th>14</th>\n",
       "      <td>2015-04-08 10:21:16+00:00</td>\n",
       "      <td>1</td>\n",
       "    </tr>\n",
       "    <tr>\n",
       "      <th>15</th>\n",
       "      <td>2015-04-08 10:21:18+00:00</td>\n",
       "      <td>1</td>\n",
       "    </tr>\n",
       "    <tr>\n",
       "      <th>16</th>\n",
       "      <td>2015-04-15 06:03:54+00:00</td>\n",
       "      <td>1</td>\n",
       "    </tr>\n",
       "    <tr>\n",
       "      <th>17</th>\n",
       "      <td>2015-08-12 06:18:06+00:00</td>\n",
       "      <td>1</td>\n",
       "    </tr>\n",
       "    <tr>\n",
       "      <th>18</th>\n",
       "      <td>2015-08-17 20:58:57+00:00</td>\n",
       "      <td>1</td>\n",
       "    </tr>\n",
       "    <tr>\n",
       "      <th>19</th>\n",
       "      <td>2015-09-26 08:21:08+00:00</td>\n",
       "      <td>1</td>\n",
       "    </tr>\n",
       "  </tbody>\n",
       "</table>\n",
       "</div>"
      ],
      "text/plain": [
       "                         Date  URL\n",
       "0   2008-11-07 15:04:00+00:00    1\n",
       "1   2009-12-03 10:40:26+00:00    1\n",
       "2   2011-02-18 10:50:32+00:00    1\n",
       "3   2012-06-14 15:19:26+00:00    1\n",
       "4   2013-04-30 07:16:53+00:00    1\n",
       "5   2013-05-18 23:52:56+00:00    1\n",
       "6   2013-05-28 15:59:31+00:00    1\n",
       "7   2013-09-30 13:24:39+00:00    1\n",
       "8   2014-01-24 18:51:07+00:00    1\n",
       "9   2014-02-28 08:51:20+00:00    1\n",
       "10  2014-07-01 15:48:04+00:00    1\n",
       "11  2014-09-11 10:55:35+00:00    1\n",
       "12  2015-04-08 09:20:41+00:00    1\n",
       "13  2015-04-08 09:20:43+00:00    1\n",
       "14  2015-04-08 10:21:16+00:00    1\n",
       "15  2015-04-08 10:21:18+00:00    1\n",
       "16  2015-04-15 06:03:54+00:00    1\n",
       "17  2015-08-12 06:18:06+00:00    1\n",
       "18  2015-08-17 20:58:57+00:00    1\n",
       "19  2015-09-26 08:21:08+00:00    1"
      ]
     },
     "execution_count": 11,
     "metadata": {},
     "output_type": "execute_result"
    }
   ],
   "source": [
    "time_agg.head(20)"
   ]
  },
  {
   "cell_type": "code",
   "execution_count": null,
   "metadata": {},
   "outputs": [],
   "source": []
  },
  {
   "cell_type": "code",
   "execution_count": 3,
   "metadata": {},
   "outputs": [],
   "source": [
    "conn = sqlite3.connect('./primary.sqlite')\n",
    "#df_primary.to_sql('main', conn, if_exists='replace', index=False)\n",
    "primary_db = pd.read_sql('SELECT * FROM main', con=conn)"
   ]
  },
  {
   "cell_type": "code",
   "execution_count": 8,
   "metadata": {},
   "outputs": [],
   "source": [
    "sources = list(primary_db['Source'].unique())\n",
    "source_lst = [{'label': 'all'}] + [{'label': source} for source in sources]"
   ]
  },
  {
   "cell_type": "code",
   "execution_count": 14,
   "metadata": {},
   "outputs": [
    {
     "data": {
      "text/plain": [
       "'openphish|phishstats|phishtank'"
      ]
     },
     "execution_count": 14,
     "metadata": {},
     "output_type": "execute_result"
    }
   ],
   "source": [
    "sources = [source for source in sources if source]\n",
    "'|'.join(sources)"
   ]
  },
  {
   "cell_type": "code",
   "execution_count": 3,
   "metadata": {},
   "outputs": [
    {
     "data": {
      "text/plain": [
       "'Openphish'"
      ]
     },
     "execution_count": 3,
     "metadata": {},
     "output_type": "execute_result"
    }
   ],
   "source": [
    "source = 'openphish' \n",
    "source.title()"
   ]
  },
  {
   "cell_type": "code",
   "execution_count": 5,
   "metadata": {},
   "outputs": [],
   "source": [
    "pie_agg = primary_db_aggregate(df_primary, 'Source')"
   ]
  },
  {
   "cell_type": "code",
   "execution_count": 12,
   "metadata": {},
   "outputs": [],
   "source": [
    "from urllib.parse import urlparse"
   ]
  },
  {
   "cell_type": "code",
   "execution_count": 18,
   "metadata": {},
   "outputs": [
    {
     "data": {
      "text/plain": [
       "'abc.hostname.com'"
      ]
     },
     "execution_count": 18,
     "metadata": {},
     "output_type": "execute_result"
    }
   ],
   "source": [
    "url = 'http://abc.hostname.com/somethings/'\n",
    "urlparse(url).netloc"
   ]
  },
  {
   "cell_type": "code",
   "execution_count": 33,
   "metadata": {},
   "outputs": [],
   "source": [
    "def domain_parser(url):\n",
    "    t = urlparse(str(url))\n",
    "    parsed = '.'.join(t.netloc.split('.')[-2:])\n",
    "\n",
    "    if parsed == 'com':\n",
    "        return t\n",
    "    else:\n",
    "        return parsed\n"
   ]
  },
  {
   "cell_type": "code",
   "execution_count": 30,
   "metadata": {},
   "outputs": [],
   "source": [
    "domains = df_primary['URL'].apply(lambda x: domain_parser(x))"
   ]
  },
  {
   "cell_type": "code",
   "execution_count": 34,
   "metadata": {},
   "outputs": [],
   "source": [
    "df_primary['Domain'] = df_primary['URL'].apply(lambda x: domain_parser(x))"
   ]
  },
  {
   "cell_type": "code",
   "execution_count": 40,
   "metadata": {},
   "outputs": [],
   "source": [
    "df_primary.to_csv('primary.csv', index=False)"
   ]
  },
  {
   "cell_type": "code",
   "execution_count": 39,
   "metadata": {},
   "outputs": [
    {
     "data": {
      "text/plain": [
       "duckdns.org                   3396\n",
       "weebly.com                    1235\n",
       "000webhostapp.com             1146\n",
       "google.com                    1126\n",
       "krakentxy.com                  927\n",
       "                              ... \n",
       "southfladjusters.com             1\n",
       "goswaptoken.com                  1\n",
       "logil1-c1ov8tfraw7u592.xyz       1\n",
       "prikrasa.com                     1\n",
       "lesterandco.com                  1\n",
       "Name: Domain, Length: 14062, dtype: int64"
      ]
     },
     "execution_count": 39,
     "metadata": {},
     "output_type": "execute_result"
    }
   ],
   "source": [
    "df_primary['Domain'].value_counts()"
   ]
  },
  {
   "cell_type": "code",
   "execution_count": 1,
   "metadata": {},
   "outputs": [],
   "source": [
    "from phintel_funcs import *"
   ]
  },
  {
   "cell_type": "code",
   "execution_count": 6,
   "metadata": {},
   "outputs": [],
   "source": [
    "import pandas as pd\n",
    "from phintel_funcs import *"
   ]
  },
  {
   "cell_type": "code",
   "execution_count": 2,
   "metadata": {},
   "outputs": [],
   "source": [
    "df_primary = pd.read_csv('primary.csv')"
   ]
  },
  {
   "cell_type": "code",
   "execution_count": 14,
   "metadata": {},
   "outputs": [],
   "source": [
    "df_agg = primary_db_aggregate(df_primary, ['Source', 'Domain'])"
   ]
  },
  {
   "cell_type": "code",
   "execution_count": 15,
   "metadata": {},
   "outputs": [],
   "source": [
    "sources = ['openphish', 'phishtank', 'phishstats']"
   ]
  },
  {
   "cell_type": "code",
   "execution_count": 17,
   "metadata": {},
   "outputs": [],
   "source": [
    "df_subset = pd.concat(df_agg[df_agg['Source'] == source].head() for source in sources)\n"
   ]
  },
  {
   "cell_type": "code",
   "execution_count": null,
   "metadata": {},
   "outputs": [],
   "source": []
  }
 ],
 "metadata": {
  "interpreter": {
   "hash": "0735241c3ebe8fabacfbbbd367eba4420e761cf3f264540888e6fc7ccfd5fa32"
  },
  "kernelspec": {
   "display_name": "Python 3.9.6 64-bit",
   "language": "python",
   "name": "python3"
  },
  "language_info": {
   "codemirror_mode": {
    "name": "ipython",
    "version": 3
   },
   "file_extension": ".py",
   "mimetype": "text/x-python",
   "name": "python",
   "nbconvert_exporter": "python",
   "pygments_lexer": "ipython3",
   "version": "3.9.6"
  },
  "orig_nbformat": 4
 },
 "nbformat": 4,
 "nbformat_minor": 2
}
